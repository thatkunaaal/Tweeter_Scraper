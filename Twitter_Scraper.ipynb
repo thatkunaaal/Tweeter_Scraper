{
 "cells": [
  {
   "cell_type": "code",
   "execution_count": 1,
   "id": "9056c456",
   "metadata": {},
   "outputs": [
    {
     "name": "stdout",
     "output_type": "stream",
     "text": [
      "Defaulting to user installation because normal site-packages is not writeable\n",
      "Collecting ntscraper\n",
      "  Downloading ntscraper-0.4.0-py3-none-any.whl.metadata (7.4 kB)\n",
      "Requirement already satisfied: requests>=2.28 in c:\\users\\kishan  singh\\appdata\\roaming\\python\\python313\\site-packages (from ntscraper) (2.32.4)\n",
      "Requirement already satisfied: beautifulsoup4>=4.11 in c:\\users\\kishan  singh\\appdata\\roaming\\python\\python313\\site-packages (from ntscraper) (4.13.4)\n",
      "Requirement already satisfied: lxml>=4.9 in c:\\users\\kishan  singh\\appdata\\roaming\\python\\python313\\site-packages (from ntscraper) (6.0.0)\n",
      "Collecting tqdm>=4.66 (from ntscraper)\n",
      "  Downloading tqdm-4.67.1-py3-none-any.whl.metadata (57 kB)\n",
      "Requirement already satisfied: soupsieve>1.2 in c:\\users\\kishan  singh\\appdata\\roaming\\python\\python313\\site-packages (from beautifulsoup4>=4.11->ntscraper) (2.7)\n",
      "Requirement already satisfied: typing-extensions>=4.0.0 in c:\\users\\kishan  singh\\appdata\\roaming\\python\\python313\\site-packages (from beautifulsoup4>=4.11->ntscraper) (4.14.0)\n",
      "Requirement already satisfied: charset_normalizer<4,>=2 in c:\\users\\kishan  singh\\appdata\\roaming\\python\\python313\\site-packages (from requests>=2.28->ntscraper) (3.4.2)\n",
      "Requirement already satisfied: idna<4,>=2.5 in c:\\users\\kishan  singh\\appdata\\roaming\\python\\python313\\site-packages (from requests>=2.28->ntscraper) (3.10)\n",
      "Requirement already satisfied: urllib3<3,>=1.21.1 in c:\\users\\kishan  singh\\appdata\\roaming\\python\\python313\\site-packages (from requests>=2.28->ntscraper) (2.5.0)\n",
      "Requirement already satisfied: certifi>=2017.4.17 in c:\\users\\kishan  singh\\appdata\\roaming\\python\\python313\\site-packages (from requests>=2.28->ntscraper) (2025.6.15)\n",
      "Requirement already satisfied: colorama in c:\\users\\kishan  singh\\appdata\\roaming\\python\\python313\\site-packages (from tqdm>=4.66->ntscraper) (0.4.6)\n",
      "Downloading ntscraper-0.4.0-py3-none-any.whl (12 kB)\n",
      "Downloading tqdm-4.67.1-py3-none-any.whl (78 kB)\n",
      "Installing collected packages: tqdm, ntscraper\n",
      "\n",
      "   ---------------------------------------- 2/2 [ntscraper]\n",
      "\n",
      "Successfully installed ntscraper-0.4.0 tqdm-4.67.1\n",
      "Note: you may need to restart the kernel to use updated packages.\n"
     ]
    }
   ],
   "source": [
    "%pip install ntscraper"
   ]
  },
  {
   "cell_type": "code",
   "execution_count": 2,
   "id": "cf04e6f0",
   "metadata": {},
   "outputs": [
    {
     "name": "stderr",
     "output_type": "stream",
     "text": [
      "Testing instances: 100%|██████████| 9/9 [00:05<00:00,  1.68it/s]\n"
     ]
    }
   ],
   "source": [
    "from ntscraper import Nitter\n",
    "\n",
    "scrapper = Nitter(log_level=1,skip_instance_check=False)"
   ]
  },
  {
   "cell_type": "code",
   "execution_count": null,
   "id": "a9c8587d",
   "metadata": {},
   "outputs": [],
   "source": [
    "scrapper.instances = [\n",
    "    \"https://nitter.privacydev.net\",\n",
    "    \"https://nitter.lacontrevoie.fr\",\n",
    "    \"https://nitter.poast.org\"\n",
    "]"
   ]
  },
  {
   "cell_type": "code",
   "execution_count": 55,
   "id": "751e6585",
   "metadata": {},
   "outputs": [
    {
     "name": "stdout",
     "output_type": "stream",
     "text": [
      "30-Jun-25 21:15:12 - Empty page on https://nitter.lacontrevoie.fr\n"
     ]
    }
   ],
   "source": [
    "tweeter_hash_tweets = scrapper.get_tweets(\"naukri\",\n",
    "    mode=\"hashtag\",\n",
    "    number=20,\n",
    "    since=\"2024-06-01\",\n",
    "    until=\"2024-06-30\",\n",
    "    instance=\"https://nitter.lacontrevoie.fr\")"
   ]
  },
  {
   "cell_type": "code",
   "execution_count": 56,
   "id": "b43e3aba",
   "metadata": {},
   "outputs": [
    {
     "name": "stdout",
     "output_type": "stream",
     "text": [
      "{'tweets': [], 'threads': []}\n"
     ]
    }
   ],
   "source": [
    "print(tweeter_hash_tweets)"
   ]
  }
 ],
 "metadata": {
  "kernelspec": {
   "display_name": "Python 3",
   "language": "python",
   "name": "python3"
  },
  "language_info": {
   "codemirror_mode": {
    "name": "ipython",
    "version": 3
   },
   "file_extension": ".py",
   "mimetype": "text/x-python",
   "name": "python",
   "nbconvert_exporter": "python",
   "pygments_lexer": "ipython3",
   "version": "3.13.2"
  }
 },
 "nbformat": 4,
 "nbformat_minor": 5
}
